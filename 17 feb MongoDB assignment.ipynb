{
 "cells": [
  {
   "cell_type": "markdown",
   "id": "1528a799-07d4-44d0-ac4a-7196029aaecb",
   "metadata": {},
   "source": [
    "Q1. What is MongoDB? Explain non-relational databases in short. In which scenarios it is preferred to use \n",
    "MongoDB over SQL databases?"
   ]
  },
  {
   "cell_type": "code",
   "execution_count": null,
   "id": "22668c57-a60b-408f-b78d-5437a675a18d",
   "metadata": {},
   "outputs": [],
   "source": [
    "# Answer:\n",
    "'''MongoDB is a popular NoSQL document-oriented database management system that \n",
    "    uses JSON-like documents with dynamic schemas instead of tables and rows used in SQL databases.\n",
    "    Non-relational databases or NoSQL databases, as the name suggests, do not follow the traditional relational database model \n",
    "    and instead store data in a variety of ways like key-value pairs, documents, graphs, etc. \n",
    "    These databases are preferred when dealing with large volumes of unstructured or semi-structured data, \n",
    "    as they provide greater flexibility and scalability over SQL databases. \n",
    "    MongoDB is preferred over SQL databases in scenarios where there is a need for handling large \n",
    "    volumes of data with varying structures, frequent updates, and flexibility.'''"
   ]
  },
  {
   "cell_type": "markdown",
   "id": "3bc47e48-2170-40d9-8fa5-3f21c32f2158",
   "metadata": {},
   "source": [
    "Q2. State and Explain the features of MongoDB."
   ]
  },
  {
   "cell_type": "code",
   "execution_count": null,
   "id": "ad839cd5-9a77-4033-ac38-2a609d6453c5",
   "metadata": {},
   "outputs": [],
   "source": [
    "# Answer:\n",
    "'''chemaless: MongoDB stores data in the form of JSON-like documents with dynamic schemas \n",
    "that can vary from one document to another in the same collection.\n",
    "High Availability: MongoDB uses a replication mechanism that allows multiple copies of the database to be \n",
    "kept on multiple servers, ensuring high availability and fault tolerance.\n",
    "Scalability: MongoDB can handle large volumes of data and can be easily scaled horizontally across multiple servers using sharding.\n",
    "Indexing: MongoDB provides a variety of indexing options for faster queries and sorting.\n",
    "Aggregation: MongoDB provides a rich aggregation framework for performing complex data processing on collections.'''"
   ]
  },
  {
   "cell_type": "markdown",
   "id": "47282597-1ae1-424b-bc7a-93f9b911bca8",
   "metadata": {},
   "source": [
    "Q3. Write a code to connect MongoDB to Python. Also, create a database and a collection in MongoDB."
   ]
  },
  {
   "cell_type": "code",
   "execution_count": null,
   "id": "ff13642a-5859-4d03-b6c2-657f2a6be36b",
   "metadata": {},
   "outputs": [],
   "source": [
    "import pymongo\n",
    "# connect to MongoDB server\n",
    "client = pymongo.MongoClient(\"mongodb://localhost:27017/\")\n",
    "# create a database\n",
    "db = client[\"mydatabase\"]\n",
    "# create a collection\n",
    "col = db[\"customers\"]\n"
   ]
  },
  {
   "cell_type": "markdown",
   "id": "a9881e06-60ba-49ca-ac77-aa45eebfef2b",
   "metadata": {},
   "source": [
    "Q4. Using the database and the collection created in question number 3, write a code to insert one record, \n",
    "and insert many records. Use the find() and find_one() methods to print the inserted record."
   ]
  },
  {
   "cell_type": "code",
   "execution_count": null,
   "id": "14312294-a2e5-49de-8d6b-f9c093367b93",
   "metadata": {},
   "outputs": [],
   "source": [
    "# Answer:\n",
    "# insert one record\n",
    "data = {\"name\": \"John\", \"age\": 25, \"country\": \"USA\"}\n",
    "result = col.insert_one(data)\n",
    "print(result.inserted_id)\n",
    "\n",
    "# insert many records\n",
    "data1 = [\n",
    "    {\"name\": \"Alice\", \"age\": 30, \"country\": \"Canada\"},\n",
    "    {\"name\": \"Bob\", \"age\": 35, \"country\": \"USA\"},\n",
    "    {\"name\": \"Charlie\", \"age\": 40, \"country\": \"Australia\"}\n",
    "]\n",
    "result = col.insert_many(data1)\n",
    "print(result.inserted_ids)\n",
    "\n",
    "# find one record\n",
    "data = col.find_one()\n",
    "print(data)\n",
    "\n",
    "# find all records\n",
    "data1 = col.find()\n",
    "for i in data1:\n",
    "    print(i)\n"
   ]
  },
  {
   "cell_type": "markdown",
   "id": "e4089b80-e96a-434d-b133-7facb066d69f",
   "metadata": {},
   "source": [
    "Q5. Explain how you can use the find() method to query the MongoDB database. Write a simple code to \n",
    "demonstrate this."
   ]
  },
  {
   "cell_type": "code",
   "execution_count": null,
   "id": "8ed00901-f005-40a7-9f94-2e2704950328",
   "metadata": {},
   "outputs": [],
   "source": [
    "# Answer:\n",
    "'''The find() method is used to query a collection in MongoDB. \n",
    "    It returns a cursor object that can be iterated over to retrieve the matching documents.'''\n",
    "# query documents in collection\n",
    "query = {\"name\": \"Mithilesh\"}\n",
    "records = col.find(query)\n",
    "\n",
    "# print matching documents\n",
    "for i in records:\n",
    "    print(i)\n"
   ]
  },
  {
   "cell_type": "markdown",
   "id": "e91c00c3-7465-4a8d-8ce3-07cf1fe9b73b",
   "metadata": {},
   "source": [
    "Q6. Explain the sort() method. Give an example to demonstrate sorting in MongoDB."
   ]
  },
  {
   "cell_type": "code",
   "execution_count": null,
   "id": "7edb6b64-f9fe-4800-ac7b-15edc4ae82df",
   "metadata": {},
   "outputs": [],
   "source": [
    "# Answer:\n",
    "'''The sort() method is used to sort the results of a query in MongoDB. \n",
    "It takes a field name and a sort order as arguments and returns the sorted results.'''\n",
    "\n",
    "# sort documents by age in descending order\n",
    "records = col.find().sort(\"age\", -1)\n",
    "# print sorted documents\n",
    "for i in records:\n",
    "    print(i)\n"
   ]
  },
  {
   "cell_type": "markdown",
   "id": "e353b515-5d8d-4f92-af65-e1caa73d3e1f",
   "metadata": {},
   "source": [
    "Q7. Explain why delete_one(), delete_many(), and drop() is used."
   ]
  },
  {
   "cell_type": "code",
   "execution_count": null,
   "id": "083f31e1-ed16-4535-85ad-d8203e2db14a",
   "metadata": {},
   "outputs": [],
   "source": [
    "# Answer:\n",
    "'''In MongoDB, the methods delete_one(), delete_many(), and drop() are used to delete documents and collections respectively.\n",
    "\n",
    "delete_one(): This method is used to delete a single document that matches the specified criteria.\n",
    "                For example, if you want to delete a document with a specific _id field value, you can use this method. \n",
    "                If there are multiple documents that match the criteria, only the first document that is found will be deleted.\n",
    "delete_many(): This method is used to delete multiple documents that match the specified criteria. For example, \n",
    "                if you want to delete all documents with a certain field value, you can use this method.\n",
    "drop(): This method is used to delete an entire collection. Once you delete a collection, all of its documents will also be deleted.'''\n"
   ]
  },
  {
   "cell_type": "code",
   "execution_count": null,
   "id": "c35bb942-3188-4f84-b52d-253220c4860a",
   "metadata": {},
   "outputs": [],
   "source": []
  }
 ],
 "metadata": {
  "kernelspec": {
   "display_name": "Python 3 (ipykernel)",
   "language": "python",
   "name": "python3"
  },
  "language_info": {
   "codemirror_mode": {
    "name": "ipython",
    "version": 3
   },
   "file_extension": ".py",
   "mimetype": "text/x-python",
   "name": "python",
   "nbconvert_exporter": "python",
   "pygments_lexer": "ipython3",
   "version": "3.10.8"
  }
 },
 "nbformat": 4,
 "nbformat_minor": 5
}
