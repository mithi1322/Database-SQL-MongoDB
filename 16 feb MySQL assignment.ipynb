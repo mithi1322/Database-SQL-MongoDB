{
 "cells": [
  {
   "cell_type": "markdown",
   "id": "bc6f49a4-91db-43ea-92ec-65df6567a395",
   "metadata": {},
   "source": [
    "Q1. What is a database? Differentiate between SQL and NoSQL databases."
   ]
  },
  {
   "cell_type": "code",
   "execution_count": null,
   "id": "3ba22768-bbca-4c79-a4a1-0bd9da404b40",
   "metadata": {},
   "outputs": [],
   "source": [
    "# Answer:\n",
    "'''A database is a structured collection of data that can be easily accessed, managed, and updated.\n",
    "SQL (Structured Query Language) is a relational database management system that uses a structured schema and organizes data into tables with \n",
    "pre-defined relationships between them. NoSQL (Not only SQL) is a non-relational database management system that stores data in a document-oriented, \n",
    "graph-oriented, or key-value format, with flexible schemas that can change dynamically.'''"
   ]
  },
  {
   "cell_type": "markdown",
   "id": "00b53661-397b-410e-ab9a-ce8e8ccf3e06",
   "metadata": {},
   "source": [
    "Q2. What is DDL? Explain why CREATE, DROP, ALTER, and TRUNCATE are used with an example."
   ]
  },
  {
   "cell_type": "code",
   "execution_count": null,
   "id": "bbd5ae04-01d1-4f4a-b187-b697956ada4c",
   "metadata": {},
   "outputs": [],
   "source": [
    "# Answer:\n",
    "'''DDL (Data Definition Language) is a subset of SQL that is used to define the structure of a database.\n",
    "   The following are some of the commonly used DDL commands and their uses:\n",
    "\n",
    "CREATE: Used to create a new table, view, or other database object.\n",
    "DROP: Used to delete a table, view, or other database object.\n",
    "ALTER: Used to modify the structure of an existing table or other database object.\n",
    "TRUNCATE: Used to delete all the data in a table without deleting the table structure.'''\n",
    "\n",
    "CREATE TABLE customers (id INT PRIMARY KEY,name VARCHAR(50),email VARCHAR(50));\n"
   ]
  },
  {
   "cell_type": "markdown",
   "id": "60f30490-cfc2-41ba-b385-5b250ec8f7ee",
   "metadata": {},
   "source": [
    "Q3. What is DML? Explain INSERT, UPDATE, and DELETE with an example."
   ]
  },
  {
   "cell_type": "code",
   "execution_count": null,
   "id": "19012278-d818-4aa2-980a-eef1c2f8f9a7",
   "metadata": {},
   "outputs": [],
   "source": [
    "# Answer:\n",
    "'''DML (Data Manipulation Language) is a subset of SQL that is used to manipulate data in a database. \n",
    "The following are some of the commonly used DML commands and their uses:\n",
    "\n",
    "INSERT: Used to add new data to a table.\n",
    "UPDATE: Used to modify existing data in a table.\n",
    "DELETE: Used to delete data from a table.'''\n",
    "\n",
    "INSERT INTO customers (id, name, email) VALUES (1, 'Mithilesh', 'mithi@gmail.com');\n",
    "UPDATE customers SET name = 'Rohit' WHERE id = 1;\n",
    "DELETE FROM customers WHERE id = 1;\n"
   ]
  },
  {
   "cell_type": "markdown",
   "id": "87792fd9-c05f-4a60-9266-415e9005d7f5",
   "metadata": {},
   "source": [
    "Q4. What is DQL? Explain SELECT with an example."
   ]
  },
  {
   "cell_type": "code",
   "execution_count": null,
   "id": "a66ff136-0206-4b7c-b5d5-41a9f35d6443",
   "metadata": {},
   "outputs": [],
   "source": [
    "# Answer:\n",
    "'''DQL (Data Query Language) is a subset of SQL that is used to retrieve data from a database. \n",
    "The most commonly used DQL command is SELECT, which is used to query data from one or more tables. \n",
    "For example, the following SQL statement retrieves all the rows from the \"customers\" table:'''\n",
    "\n",
    "SELECT * FROM customers;\n"
   ]
  },
  {
   "cell_type": "markdown",
   "id": "a604662f-9ac0-4cbc-946d-5b9d7462cee3",
   "metadata": {},
   "source": [
    "Q5. Explain Primary Key and Foreign Key."
   ]
  },
  {
   "cell_type": "code",
   "execution_count": null,
   "id": "091fa174-5d43-453e-b285-12954310086d",
   "metadata": {},
   "outputs": [],
   "source": [
    "# Answer:\n",
    "'''A primary key is a column or set of columns in a table that uniquely identifies each row in that table. \n",
    "It is used to enforce data integrity and ensure that there are no duplicate rows in the table. \n",
    "A foreign key is a column or set of columns in one table that refers to the primary key of another table. \n",
    "It is used to establish a relationship between two tables and enforce referential integrity.'''"
   ]
  },
  {
   "cell_type": "markdown",
   "id": "8bd9f5c9-2830-4395-a408-23bd2bf4e888",
   "metadata": {},
   "source": [
    "Q6. Write a python code to connect MySQL to python. Explain the cursor() and execute() method."
   ]
  },
  {
   "cell_type": "code",
   "execution_count": null,
   "id": "8f421386-342d-4603-865a-64b7f487c6c0",
   "metadata": {},
   "outputs": [],
   "source": [
    "import mysql.connector\n",
    "# connect to the database\n",
    "mydb = mysql.connector.connect(\n",
    "  host=\"localhost\",\n",
    "  user=\"username\",\n",
    "  password=\"password\",\n",
    "  database=\"databasename\"\n",
    ")\n",
    "# create a cursor object\n",
    "mycursor = mydb.cursor()\n",
    "\n",
    "# cursor and execute \n",
    "'''cursor() method is used to create a cursor object which is used to execute SQL queries and fetch data from the database.\n",
    "execute() method is used to execute SQL queries on the database. It takes a string parameter which contains the SQL query to be executed.'''\n"
   ]
  },
  {
   "cell_type": "markdown",
   "id": "faf1c960-5036-443c-9a7f-324c9fc9b10e",
   "metadata": {},
   "source": [
    "Q7. Give the order of execution of SQL clauses in an SQL query."
   ]
  },
  {
   "cell_type": "code",
   "execution_count": null,
   "id": "fa39d7c6-c632-4838-b128-ad5c7408ecc2",
   "metadata": {},
   "outputs": [],
   "source": [
    "# Answer:\n",
    "# In an SQL query, the order of execution of clauses is:\n",
    "''' FROM: specifies the table(s) to retrieve data from.\n",
    "    JOIN: combines data from multiple tables based on a related column between them.\n",
    "    WHERE: filters the data based on a specific condition.\n",
    "    GROUP BY: groups the data based on one or more columns.\n",
    "    HAVING: filters the grouped data based on a specific condition.\n",
    "    SELECT: selects the columns to retrieve data from.\n",
    "    DISTINCT: removes duplicate rows from the result set.\n",
    "    ORDER BY: sorts the result set based on one or more columns.\n",
    "    LIMIT: limits the number of rows returned by the query.'''"
   ]
  },
  {
   "cell_type": "code",
   "execution_count": null,
   "id": "b5ad6333-80e2-4908-8c8f-0648c286dd10",
   "metadata": {},
   "outputs": [],
   "source": []
  }
 ],
 "metadata": {
  "kernelspec": {
   "display_name": "Python 3 (ipykernel)",
   "language": "python",
   "name": "python3"
  },
  "language_info": {
   "codemirror_mode": {
    "name": "ipython",
    "version": 3
   },
   "file_extension": ".py",
   "mimetype": "text/x-python",
   "name": "python",
   "nbconvert_exporter": "python",
   "pygments_lexer": "ipython3",
   "version": "3.10.8"
  }
 },
 "nbformat": 4,
 "nbformat_minor": 5
}
