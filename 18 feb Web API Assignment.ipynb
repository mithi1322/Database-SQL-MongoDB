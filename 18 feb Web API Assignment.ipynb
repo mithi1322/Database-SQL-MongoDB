{
 "cells": [
  {
   "cell_type": "markdown",
   "id": "bc76e50f-6253-4630-905d-5e290e783197",
   "metadata": {},
   "source": [
    "Q1. What is an API? Give an example, where an API is used in real life."
   ]
  },
  {
   "cell_type": "code",
   "execution_count": null,
   "id": "08f5186e-cd26-4694-8f72-910d3d18a84b",
   "metadata": {},
   "outputs": [],
   "source": [
    "# Answer:\n",
    "'''API stands for Application Programming Interface. It is a set of protocols, tools, and routines for building software applications.\n",
    "    APIs are used to define how different software components should interact with each other.\n",
    "    An example of API in real life is when you use a mobile app to order food from a restaurant. \n",
    "    The app sends your order to the restaurant's API, which in turn communicates with the restaurant's \n",
    "    backend system to process the order and send back a response to the app.'''"
   ]
  },
  {
   "cell_type": "markdown",
   "id": "0801be91-79d5-473d-ac27-ba989294fd01",
   "metadata": {},
   "source": [
    "Q2. Give advantages and disadvantages of using API. "
   ]
  },
  {
   "cell_type": "code",
   "execution_count": null,
   "id": "d354cb20-f2ee-4c94-b2bf-0c6fdf5dd561",
   "metadata": {},
   "outputs": [],
   "source": [
    "#Answer:\n",
    "#Advantages of using API:\n",
    "'''Reusability: APIs can be used across multiple applications and platforms, saving time and effort in development.\n",
    "    Scalability: APIs can handle large amounts of data and traffic, allowing for greater scalability of applications.'''\n",
    "\n",
    "#Disadvantages of using API:\n",
    "'''Security: APIs can be a potential security risk if not properly secured and managed.\n",
    "    Compatibility: APIs may not be compatible with all platforms and may require additional development to ensure compatibility.\n",
    "    Dependency: Applications built on top of an API are dependent on that API, making it difficult to switch to another API or platform.'''"
   ]
  },
  {
   "cell_type": "markdown",
   "id": "12f53cdd-5fca-4b1a-b0e7-6d0a2bf98c67",
   "metadata": {},
   "source": [
    "Q3. What is a Web API? Differentiate between API and Web API."
   ]
  },
  {
   "cell_type": "code",
   "execution_count": null,
   "id": "731c7bba-deca-4cef-be4c-b5f269293217",
   "metadata": {},
   "outputs": [],
   "source": [
    "#Answer:\n",
    "'''A Web API is an API that is designed to be used over the internet through web-based communication protocols such as HTTP.\n",
    "    A Web API is a type of API that is accessed through web protocols, while an API can be accessed through any communication protocol, \n",
    "    including web protocols. In other words, a Web API is a subset of APIs that are designed specifically for web-based communication.'''"
   ]
  },
  {
   "cell_type": "markdown",
   "id": "f97c25ca-df99-46e9-b7dc-f47e1cbaf2e4",
   "metadata": {},
   "source": [
    "Q4. Explain REST and SOAP Architecture. Mention shortcomings of SOAP."
   ]
  },
  {
   "cell_type": "code",
   "execution_count": null,
   "id": "fda4c936-5474-4293-a84e-cc54c01077a4",
   "metadata": {},
   "outputs": [],
   "source": [
    "# Answer:\n",
    "'''REST (Representational State Transfer) and SOAP (Simple Object Access Protocol) are two architectural styles used for designing web services. \n",
    "    REST is a lightweight, simple and flexible architectural style that uses HTTP to transfer data,\n",
    "    while SOAP is a more complex and heavyweight protocol that uses XML to transfer data.'''\n",
    "\n",
    "'''SOAP Architecture: SOAP is a messaging protocol that is used for exchanging structured data between web services. \n",
    "    SOAP messages are formatted in XML and are typically sent using HTTP or SMTP. \n",
    "    SOAP uses a contract-first approach, meaning that the message format is defined in a WSDL (Web Services Description Language) file.'''\n",
    "\n",
    "# Shortcomings of SOAP:\n",
    "\n",
    "'''Complexity: SOAP is a complex protocol that requires significant expertise to implement and maintain.\n",
    "    Overhead: SOAP messages can be large and contain a lot of unnecessary data, leading to increased network overhead and slower performance.\n",
    "    Platform dependency: SOAP is a platform-dependent protocol, meaning that it may not be compatible with all platforms.'''"
   ]
  },
  {
   "cell_type": "markdown",
   "id": "7b47746a-af76-446f-a432-3be814f6ff96",
   "metadata": {},
   "source": [
    "Q5. Differentiate between REST and SOAP."
   ]
  },
  {
   "cell_type": "code",
   "execution_count": null,
   "id": "2f4130f1-2096-4ecf-ba16-e3f22511923a",
   "metadata": {},
   "outputs": [],
   "source": [
    "# Answer: Differences between REST and SOAP are:\n",
    "\n",
    "'''Protocol: REST uses HTTP as its protocol, while SOAP can use HTTP, SMTP, or any other protocol.\n",
    "    Messaging format: REST uses plain text, XML or JSON to transfer data, while SOAP uses XML.\n",
    "    Architecture: REST is a simple and lightweight architecture that uses resources to transfer data, \n",
    "    while SOAP is a complex and heavyweight protocol that uses a contract-first approach.\n",
    "    Caching: REST allows for caching of resources, while SOAP.'''\n"
   ]
  },
  {
   "cell_type": "code",
   "execution_count": null,
   "id": "7b075802-c798-4212-b7a9-9f4ebde69220",
   "metadata": {},
   "outputs": [],
   "source": []
  }
 ],
 "metadata": {
  "kernelspec": {
   "display_name": "Python 3 (ipykernel)",
   "language": "python",
   "name": "python3"
  },
  "language_info": {
   "codemirror_mode": {
    "name": "ipython",
    "version": 3
   },
   "file_extension": ".py",
   "mimetype": "text/x-python",
   "name": "python",
   "nbconvert_exporter": "python",
   "pygments_lexer": "ipython3",
   "version": "3.10.8"
  }
 },
 "nbformat": 4,
 "nbformat_minor": 5
}
